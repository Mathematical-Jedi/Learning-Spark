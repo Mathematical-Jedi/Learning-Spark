{
 "cells": [
  {
   "cell_type": "code",
   "execution_count": 2,
   "metadata": {},
   "outputs": [
    {
     "name": "stderr",
     "output_type": "stream",
     "text": [
      "23/05/04 03:18:39 WARN Utils: Your hostname, zylab resolves to a loopback address: 127.0.1.1; using 10.16.88.247 instead (on interface eno1)\n",
      "23/05/04 03:18:39 WARN Utils: Set SPARK_LOCAL_IP if you need to bind to another address\n",
      "Setting default log level to \"WARN\".\n",
      "To adjust logging level use sc.setLogLevel(newLevel). For SparkR, use setLogLevel(newLevel).\n",
      "23/05/04 03:18:40 WARN NativeCodeLoader: Unable to load native-hadoop library for your platform... using builtin-java classes where applicable\n",
      "23/05/04 03:18:41 WARN Utils: Service 'SparkUI' could not bind on port 4040. Attempting port 4041.\n",
      "                                                                                \r"
     ]
    },
    {
     "name": "stdout",
     "output_type": "stream",
     "text": [
      "+-----+-------------------+-------------------+--------+----------------+------------+------------+\n",
      "|index|            in_time|           out_time|berthage|         section|admin_region|parking_time|\n",
      "+-----+-------------------+-------------------+--------+----------------+------------+------------+\n",
      "|    0|2018-09-01 10:10:00|2018-09-01 12:00:00|  201091|荔园路(蛇口西段)|      南山区|        6600|\n",
      "|    1|2018-09-01 13:43:35|2018-09-01 14:29:35|  201091|荔园路(蛇口西段)|      南山区|        2760|\n",
      "|    2|2018-09-01 15:10:54|2018-09-01 16:08:54|  201091|荔园路(蛇口西段)|      南山区|        3480|\n",
      "|    3|2018-09-01 16:34:03|2018-09-01 17:56:03|  201091|荔园路(蛇口西段)|      南山区|        4920|\n",
      "|    4|2018-09-01 18:40:20|2018-09-01 20:00:20|  201091|荔园路(蛇口西段)|      南山区|        4800|\n",
      "+-----+-------------------+-------------------+--------+----------------+------------+------------+\n",
      "\n"
     ]
    },
    {
     "name": "stderr",
     "output_type": "stream",
     "text": [
      "/home/yecm/anaconda3/envs/spark/lib/python3.11/site-packages/pyspark/pandas/__init__.py:50: UserWarning: 'PYARROW_IGNORE_TIMEZONE' environment variable was not set. It is required to set this environment variable to '1' in both driver and executor sides if you use pyarrow>=2.0.0. pandas-on-Spark will set it for you but it does not work if there is a Spark context already launched.\n",
      "  warnings.warn(\n"
     ]
    }
   ],
   "source": [
    "from boilerplates import *"
   ]
  },
  {
   "cell_type": "code",
   "execution_count": 3,
   "metadata": {},
   "outputs": [
    {
     "data": {
      "text/plain": [
       "['index',\n",
       " 'in_time',\n",
       " 'out_time',\n",
       " 'berthage',\n",
       " 'section',\n",
       " 'admin_region',\n",
       " 'parking_time']"
      ]
     },
     "execution_count": 3,
     "metadata": {},
     "output_type": "execute_result"
    }
   ],
   "source": [
    "df.columns"
   ]
  },
  {
   "cell_type": "code",
   "execution_count": 4,
   "metadata": {},
   "outputs": [
    {
     "data": {
      "text/plain": [
       "[datetime.datetime(2023, 5, 4, 3, 0),\n",
       " datetime.datetime(2023, 5, 4, 3, 30),\n",
       " datetime.datetime(2023, 5, 4, 4, 0)]"
      ]
     },
     "execution_count": 4,
     "metadata": {},
     "output_type": "execute_result"
    }
   ],
   "source": [
    "# 问题5\n",
    "# 原本是 停车记录， in, out, b , s\n",
    "# 首先求 in, out 作为时间戳，覆盖的半小时范围，得到一个列表\n",
    "# 可以通过\n",
    "import datetime\n",
    "def get_lower_bound(time:datetime.datetime):\n",
    "    return datetime.datetime(time.year, time.month, time.day, time.hour, time.minute//30*30, 0)\n",
    "def get_time_range(in_time:datetime.datetime, out_time:datetime.datetime):\n",
    "    in_lower = get_lower_bound(in_time)\n",
    "    out_lower = get_lower_bound(out_time)\n",
    "    return [in_lower + datetime.timedelta(minutes=30*i) for i in range((out_lower-in_lower).seconds//1800+1)]\n",
    "    \n",
    "# get_lower_bound(datetime.datetime.now())\n",
    "get_time_range(datetime.datetime.now(), datetime.datetime.now()+datetime.timedelta(hours=1))"
   ]
  },
  {
   "cell_type": "code",
   "execution_count": 5,
   "metadata": {},
   "outputs": [
    {
     "data": {
      "text/plain": [
       "{'name': 'a', 'b': 1}"
      ]
     },
     "execution_count": 5,
     "metadata": {},
     "output_type": "execute_result"
    }
   ],
   "source": [
    "def update(d:dict, new_value:dict):\n",
    "    d.update(new_value)\n",
    "    return d\n",
    "update(Row(name=\"a\").asDict(), {\"b\":1, })"
   ]
  },
  {
   "cell_type": "code",
   "execution_count": 6,
   "metadata": {},
   "outputs": [
    {
     "name": "stderr",
     "output_type": "stream",
     "text": [
      "                                                                                \r"
     ]
    },
    {
     "data": {
      "text/plain": [
       "[(Row(impact=datetime.datetime(2018, 9, 1, 10, 0), section='荔园路(蛇口西段)'),\n",
       "  201091),\n",
       " (Row(impact=datetime.datetime(2018, 9, 1, 10, 30), section='荔园路(蛇口西段)'),\n",
       "  201091)]"
      ]
     },
     "execution_count": 6,
     "metadata": {},
     "output_type": "execute_result"
    }
   ],
   "source": [
    "rdd = df.rdd\n",
    "def item2impacts(item:Row):\n",
    "    # item是一个row对象\n",
    "    # return [update(item.asDict(), {'impact':impact})\n",
    "    # return [Row(impact=impact, section=item.section, berthage=item.berthage)\n",
    "    # return [(Row(impact=impact, section=item.section), item.berthage)\n",
    "    return [(Row(impact=impact, section=item.section), item.berthage)\n",
    "            for impact in get_time_range(item.in_time, item.out_time)]\n",
    "res =  rdd.flatMap(item2impacts)\n",
    "res.take(2)"
   ]
  },
  {
   "cell_type": "code",
   "execution_count": 7,
   "metadata": {},
   "outputs": [],
   "source": [
    "total_berthages = spark.read.csv((output_directory/'r1.csv').as_posix(),header=True, \n",
    "                    inferSchema=True)\n",
    "total_berthages = total_berthages.rdd.collectAsMap()\n",
    "# total_berthages"
   ]
  },
  {
   "cell_type": "code",
   "execution_count": 8,
   "metadata": {},
   "outputs": [
    {
     "name": "stderr",
     "output_type": "stream",
     "text": [
      "                                                                                \r"
     ]
    },
    {
     "data": {
      "text/plain": [
       "[(Row(impact=datetime.datetime(2018, 9, 1, 10, 0), section='中心路(后海湾段)'), 16),\n",
       " (Row(impact=datetime.datetime(2018, 9, 1, 10, 0), section='创业路(南油段)'), 30)]"
      ]
     },
     "execution_count": 8,
     "metadata": {},
     "output_type": "execute_result"
    }
   ],
   "source": [
    "res5 = res.groupByKey().mapValues(lambda vals: len(set(vals))).sortByKey()\n",
    "# res5 = res.groupBy(lambda x:(x.impact, x.section)).mapValues(lambda vals: len(set(vals))).sortByKey()\n",
    "res5.take(2)"
   ]
  },
  {
   "cell_type": "code",
   "execution_count": 9,
   "metadata": {},
   "outputs": [
    {
     "data": {
      "text/plain": [
       "[Row(start_time=datetime.datetime(2018, 9, 1, 10, 0), end_time=datetime.datetime(2018, 9, 1, 10, 30), section='中心路(后海湾段)', count=16, percentage=0.25396825396825395),\n",
       " Row(start_time=datetime.datetime(2018, 9, 1, 10, 0), end_time=datetime.datetime(2018, 9, 1, 10, 30), section='创业路(南油段)', count=30, percentage=0.4166666666666667)]"
      ]
     },
     "execution_count": 9,
     "metadata": {},
     "output_type": "execute_result"
    }
   ],
   "source": [
    "def format(item):\n",
    "    start_time = item[0].impact\n",
    "    end_time = start_time + datetime.timedelta(minutes=30)\n",
    "    section = item[0].section\n",
    "    count = item[1]\n",
    "    # percentage = f\"{count/total_berthages[section]:.2f}\"\n",
    "    percentage = count/total_berthages[section]\n",
    "    return Row(start_time=start_time, end_time=end_time, section=section, count=count, percentage=percentage)\n",
    "formated = res5.map(format)\n",
    "formated.take(2)"
   ]
  },
  {
   "cell_type": "code",
   "execution_count": 10,
   "metadata": {},
   "outputs": [
    {
     "name": "stderr",
     "output_type": "stream",
     "text": [
      "[Stage 64:>                                                         (0 + 1) / 1]\r"
     ]
    },
    {
     "name": "stdout",
     "output_type": "stream",
     "text": [
      "written to /home/yecm/yecanming/repo/P_CS_Labs/Distrubuted/Assignment3-Spark/output/r5.csv\n"
     ]
    }
   ],
   "source": [
    "res5_df = spark.createDataFrame(formated)\n",
    "write_df(res5_df.withColumn('percentage', round(col('percentage'), 2)), 'r5.csv')"
   ]
  },
  {
   "cell_type": "code",
   "execution_count": 20,
   "metadata": {},
   "outputs": [],
   "source": [
    "half_hour = lambda colname:floor((hour(col(colname)) * 60\n",
    "                                       + minute(col(colname))) / 30)"
   ]
  },
  {
   "cell_type": "code",
   "execution_count": 59,
   "metadata": {},
   "outputs": [
    {
     "name": "stderr",
     "output_type": "stream",
     "text": [
      "[Stage 200:===========>                                           (4 + 16) / 20]\r"
     ]
    },
    {
     "name": "stdout",
     "output_type": "stream",
     "text": [
      "+---------------+--------+------------------+-------------------+\n",
      "|half_hour_order| section|             count|         percentage|\n",
      "+---------------+--------+------------------+-------------------+\n",
      "|             25|文心四路|17.104972375690608|  0.712707182320442|\n",
      "|             29|  常兴路|32.082417582417584|0.48609723609723604|\n",
      "|             36|金世纪路| 7.840425531914893|0.41265397536394177|\n",
      "|             38|  常兴路|  38.6978021978022| 0.5863303363303364|\n",
      "|             38|文心六路| 44.66483516483517| 0.7700833649109512|\n",
      "+---------------+--------+------------------+-------------------+\n",
      "only showing top 5 rows\n",
      "\n"
     ]
    },
    {
     "name": "stderr",
     "output_type": "stream",
     "text": [
      "                                                                                \r"
     ]
    }
   ],
   "source": [
    "# 现在做一个平均，\n",
    "# reduced_df = formated.map(lambda x:((x.start_time., x.section), x.start_time)).reduceByKey(mean)\n",
    "reduced_df = res5_df.groupby(half_hour('start_time').alias('half_hour_order'), col_section)\\\n",
    "    .agg(mean(col('count')).alias('count'), mean('percentage').alias('percentage'))      \n",
    "reduced_df.show(5)                  "
   ]
  },
  {
   "cell_type": "code",
   "execution_count": 34,
   "metadata": {},
   "outputs": [],
   "source": [
    "# zero = datetime.time(hour=0, minute=0)\n",
    "# zero = datetime.datetime.now()\n",
    "# zero"
   ]
  },
  {
   "cell_type": "code",
   "execution_count": 61,
   "metadata": {},
   "outputs": [
    {
     "name": "stderr",
     "output_type": "stream",
     "text": [
      "[Stage 214:=================================================>     (18 + 2) / 20]\r"
     ]
    },
    {
     "name": "stdout",
     "output_type": "stream",
     "text": [
      "+--------------------+------------------+-------------------+----------+----------+\n",
      "|             section|             count|         percentage|start_time|  end_time|\n",
      "+--------------------+------------------+-------------------+----------+----------+\n",
      "|            文心四路|17.104972375690608|  0.712707182320442|1683174600|1683176400|\n",
      "|              常兴路|32.082417582417584|0.48609723609723604|1683181800|1683183600|\n",
      "|            金世纪路| 7.840425531914893|0.41265397536394177|1683194400|1683196200|\n",
      "|              常兴路|  38.6978021978022| 0.5863303363303364|1683198000|1683199800|\n",
      "|            文心六路| 44.66483516483517| 0.7700833649109512|1683198000|1683199800|\n",
      "|        海月路(东段)|2.9523809523809526|0.15538847117794488|1683156600|1683158400|\n",
      "|            海德一道| 7.566666666666666|0.14836601307189543|1683160200|1683162000|\n",
      "|              华明路| 1.434782608695652| 0.4782608695652173|1683162000|1683163800|\n",
      "|            海德三道| 20.89010989010989|0.45413282369804103|1683165600|1683167400|\n",
      "|    中心路(后海湾段)|  36.6978021978022|  0.582504796790511|1683167400|1683169200|\n",
      "|  海德二道（南油段）| 8.603550295857989| 0.1911900065746219|1683171000|1683172800|\n",
      "|            海德二道| 32.45054945054945| 0.7726321297749871|1683172800|1683174600|\n",
      "|              登良路|14.296703296703297| 0.4929897688518379|1683180000|1683181800|\n",
      "|    创业路(后海湾段)| 5.452941176470588| 0.3029411764705882|1683192600|1683194400|\n",
      "|          高新南七道| 5.153846153846154|0.12570356472795496|1683196200|1683198000|\n",
      "|后海大道辅道(后海段)|18.923076923076923|0.23653846153846153|1683165600|1683167400|\n",
      "|            文心一路|  6.48876404494382|0.49913569576490924|1683171000|1683172800|\n",
      "|            工业九路|13.747252747252746| 0.2749450549450549|1683183600|1683185400|\n",
      "|            海德一道| 29.60220994475138| 0.5804354891127722|1683183600|1683185400|\n",
      "|          高新南九道| 7.226744186046512|0.27795169946332743|1683189000|1683190800|\n",
      "+--------------------+------------------+-------------------+----------+----------+\n",
      "only showing top 20 rows\n",
      "\n"
     ]
    },
    {
     "name": "stderr",
     "output_type": "stream",
     "text": [
      "                                                                                \r"
     ]
    }
   ],
   "source": [
    "# https://www.cnblogs.com/feiyumo/p/8760846.html\n",
    "reduced_df = reduced_df.withColumn('start_time', unix_timestamp(current_date())+col('half_hour_order')*1800)\\\n",
    "    .withColumn('end_time', col(\"start_time\")+1800)\\\n",
    "    .drop('half_hour_order')\n",
    "reduced_df.show()"
   ]
  },
  {
   "cell_type": "code",
   "execution_count": 15,
   "metadata": {},
   "outputs": [],
   "source": [
    "# res5_df.orderBy(col_section, col('start_time')).show()"
   ]
  },
  {
   "cell_type": "code",
   "execution_count": 74,
   "metadata": {},
   "outputs": [
    {
     "name": "stderr",
     "output_type": "stream",
     "text": [
      "                                                                                \r"
     ]
    },
    {
     "data": {
      "text/html": [
       "<div>\n",
       "<style scoped>\n",
       "    .dataframe tbody tr th:only-of-type {\n",
       "        vertical-align: middle;\n",
       "    }\n",
       "\n",
       "    .dataframe tbody tr th {\n",
       "        vertical-align: top;\n",
       "    }\n",
       "\n",
       "    .dataframe thead th {\n",
       "        text-align: right;\n",
       "    }\n",
       "</style>\n",
       "<table border=\"1\" class=\"dataframe\">\n",
       "  <thead>\n",
       "    <tr style=\"text-align: right;\">\n",
       "      <th></th>\n",
       "      <th>section</th>\n",
       "      <th>count</th>\n",
       "      <th>percentage</th>\n",
       "      <th>start_time</th>\n",
       "      <th>end_time</th>\n",
       "    </tr>\n",
       "  </thead>\n",
       "  <tbody>\n",
       "    <tr>\n",
       "      <th>0</th>\n",
       "      <td>高新南环路</td>\n",
       "      <td>39.264463</td>\n",
       "      <td>0.163602</td>\n",
       "      <td>07:30</td>\n",
       "      <td>08:00</td>\n",
       "    </tr>\n",
       "    <tr>\n",
       "      <th>1</th>\n",
       "      <td>高新南环路</td>\n",
       "      <td>39.057851</td>\n",
       "      <td>0.162741</td>\n",
       "      <td>08:00</td>\n",
       "      <td>08:30</td>\n",
       "    </tr>\n",
       "    <tr>\n",
       "      <th>2</th>\n",
       "      <td>高新南环路</td>\n",
       "      <td>27.958678</td>\n",
       "      <td>0.116494</td>\n",
       "      <td>08:30</td>\n",
       "      <td>09:00</td>\n",
       "    </tr>\n",
       "    <tr>\n",
       "      <th>3</th>\n",
       "      <td>高新南环路</td>\n",
       "      <td>24.606557</td>\n",
       "      <td>0.102527</td>\n",
       "      <td>09:00</td>\n",
       "      <td>09:30</td>\n",
       "    </tr>\n",
       "    <tr>\n",
       "      <th>4</th>\n",
       "      <td>高新南环路</td>\n",
       "      <td>25.131148</td>\n",
       "      <td>0.104713</td>\n",
       "      <td>09:30</td>\n",
       "      <td>10:00</td>\n",
       "    </tr>\n",
       "    <tr>\n",
       "      <th>5</th>\n",
       "      <td>高新南环路</td>\n",
       "      <td>38.928571</td>\n",
       "      <td>0.162202</td>\n",
       "      <td>10:00</td>\n",
       "      <td>10:30</td>\n",
       "    </tr>\n",
       "    <tr>\n",
       "      <th>6</th>\n",
       "      <td>高新南环路</td>\n",
       "      <td>44.774725</td>\n",
       "      <td>0.186561</td>\n",
       "      <td>10:30</td>\n",
       "      <td>11:00</td>\n",
       "    </tr>\n",
       "    <tr>\n",
       "      <th>7</th>\n",
       "      <td>高新南环路</td>\n",
       "      <td>45.769231</td>\n",
       "      <td>0.190705</td>\n",
       "      <td>11:00</td>\n",
       "      <td>11:30</td>\n",
       "    </tr>\n",
       "    <tr>\n",
       "      <th>8</th>\n",
       "      <td>高新南环路</td>\n",
       "      <td>44.450549</td>\n",
       "      <td>0.185211</td>\n",
       "      <td>11:30</td>\n",
       "      <td>12:00</td>\n",
       "    </tr>\n",
       "    <tr>\n",
       "      <th>9</th>\n",
       "      <td>高新南环路</td>\n",
       "      <td>41.160221</td>\n",
       "      <td>0.171501</td>\n",
       "      <td>12:00</td>\n",
       "      <td>12:30</td>\n",
       "    </tr>\n",
       "    <tr>\n",
       "      <th>10</th>\n",
       "      <td>高新南环路</td>\n",
       "      <td>35.475138</td>\n",
       "      <td>0.147813</td>\n",
       "      <td>12:30</td>\n",
       "      <td>13:00</td>\n",
       "    </tr>\n",
       "    <tr>\n",
       "      <th>11</th>\n",
       "      <td>高新南环路</td>\n",
       "      <td>32.104972</td>\n",
       "      <td>0.133771</td>\n",
       "      <td>13:00</td>\n",
       "      <td>13:30</td>\n",
       "    </tr>\n",
       "    <tr>\n",
       "      <th>12</th>\n",
       "      <td>高新南环路</td>\n",
       "      <td>31.944751</td>\n",
       "      <td>0.133103</td>\n",
       "      <td>13:30</td>\n",
       "      <td>14:00</td>\n",
       "    </tr>\n",
       "    <tr>\n",
       "      <th>13</th>\n",
       "      <td>高新南环路</td>\n",
       "      <td>34.812155</td>\n",
       "      <td>0.145051</td>\n",
       "      <td>14:00</td>\n",
       "      <td>14:30</td>\n",
       "    </tr>\n",
       "    <tr>\n",
       "      <th>14</th>\n",
       "      <td>高新南环路</td>\n",
       "      <td>38.939227</td>\n",
       "      <td>0.162247</td>\n",
       "      <td>14:30</td>\n",
       "      <td>15:00</td>\n",
       "    </tr>\n",
       "    <tr>\n",
       "      <th>15</th>\n",
       "      <td>高新南环路</td>\n",
       "      <td>43.370166</td>\n",
       "      <td>0.180709</td>\n",
       "      <td>15:00</td>\n",
       "      <td>15:30</td>\n",
       "    </tr>\n",
       "    <tr>\n",
       "      <th>16</th>\n",
       "      <td>高新南环路</td>\n",
       "      <td>51.370166</td>\n",
       "      <td>0.214042</td>\n",
       "      <td>15:30</td>\n",
       "      <td>16:00</td>\n",
       "    </tr>\n",
       "    <tr>\n",
       "      <th>17</th>\n",
       "      <td>高新南环路</td>\n",
       "      <td>55.116022</td>\n",
       "      <td>0.229650</td>\n",
       "      <td>16:00</td>\n",
       "      <td>16:30</td>\n",
       "    </tr>\n",
       "    <tr>\n",
       "      <th>18</th>\n",
       "      <td>高新南环路</td>\n",
       "      <td>52.591160</td>\n",
       "      <td>0.219130</td>\n",
       "      <td>16:30</td>\n",
       "      <td>17:00</td>\n",
       "    </tr>\n",
       "    <tr>\n",
       "      <th>19</th>\n",
       "      <td>高新南环路</td>\n",
       "      <td>50.812155</td>\n",
       "      <td>0.211717</td>\n",
       "      <td>17:00</td>\n",
       "      <td>17:30</td>\n",
       "    </tr>\n",
       "    <tr>\n",
       "      <th>20</th>\n",
       "      <td>高新南环路</td>\n",
       "      <td>48.071823</td>\n",
       "      <td>0.200299</td>\n",
       "      <td>17:30</td>\n",
       "      <td>18:00</td>\n",
       "    </tr>\n",
       "    <tr>\n",
       "      <th>21</th>\n",
       "      <td>高新南环路</td>\n",
       "      <td>45.602210</td>\n",
       "      <td>0.190009</td>\n",
       "      <td>18:00</td>\n",
       "      <td>18:30</td>\n",
       "    </tr>\n",
       "    <tr>\n",
       "      <th>22</th>\n",
       "      <td>高新南环路</td>\n",
       "      <td>47.000000</td>\n",
       "      <td>0.195833</td>\n",
       "      <td>18:30</td>\n",
       "      <td>19:00</td>\n",
       "    </tr>\n",
       "    <tr>\n",
       "      <th>23</th>\n",
       "      <td>高新南环路</td>\n",
       "      <td>51.414365</td>\n",
       "      <td>0.214227</td>\n",
       "      <td>19:00</td>\n",
       "      <td>19:30</td>\n",
       "    </tr>\n",
       "    <tr>\n",
       "      <th>24</th>\n",
       "      <td>高新南环路</td>\n",
       "      <td>53.845304</td>\n",
       "      <td>0.224355</td>\n",
       "      <td>19:30</td>\n",
       "      <td>20:00</td>\n",
       "    </tr>\n",
       "    <tr>\n",
       "      <th>25</th>\n",
       "      <td>高新南环路</td>\n",
       "      <td>41.469613</td>\n",
       "      <td>0.172790</td>\n",
       "      <td>20:00</td>\n",
       "      <td>20:30</td>\n",
       "    </tr>\n",
       "  </tbody>\n",
       "</table>\n",
       "</div>"
      ],
      "text/plain": [
       "   section      count  percentage start_time end_time\n",
       "0    高新南环路  39.264463    0.163602      07:30    08:00\n",
       "1    高新南环路  39.057851    0.162741      08:00    08:30\n",
       "2    高新南环路  27.958678    0.116494      08:30    09:00\n",
       "3    高新南环路  24.606557    0.102527      09:00    09:30\n",
       "4    高新南环路  25.131148    0.104713      09:30    10:00\n",
       "5    高新南环路  38.928571    0.162202      10:00    10:30\n",
       "6    高新南环路  44.774725    0.186561      10:30    11:00\n",
       "7    高新南环路  45.769231    0.190705      11:00    11:30\n",
       "8    高新南环路  44.450549    0.185211      11:30    12:00\n",
       "9    高新南环路  41.160221    0.171501      12:00    12:30\n",
       "10   高新南环路  35.475138    0.147813      12:30    13:00\n",
       "11   高新南环路  32.104972    0.133771      13:00    13:30\n",
       "12   高新南环路  31.944751    0.133103      13:30    14:00\n",
       "13   高新南环路  34.812155    0.145051      14:00    14:30\n",
       "14   高新南环路  38.939227    0.162247      14:30    15:00\n",
       "15   高新南环路  43.370166    0.180709      15:00    15:30\n",
       "16   高新南环路  51.370166    0.214042      15:30    16:00\n",
       "17   高新南环路  55.116022    0.229650      16:00    16:30\n",
       "18   高新南环路  52.591160    0.219130      16:30    17:00\n",
       "19   高新南环路  50.812155    0.211717      17:00    17:30\n",
       "20   高新南环路  48.071823    0.200299      17:30    18:00\n",
       "21   高新南环路  45.602210    0.190009      18:00    18:30\n",
       "22   高新南环路  47.000000    0.195833      18:30    19:00\n",
       "23   高新南环路  51.414365    0.214227      19:00    19:30\n",
       "24   高新南环路  53.845304    0.224355      19:30    20:00\n",
       "25   高新南环路  41.469613    0.172790      20:00    20:30"
      ]
     },
     "execution_count": 74,
     "metadata": {},
     "output_type": "execute_result"
    }
   ],
   "source": [
    "# 画图分析\n",
    "高新南环路 = reduced_df.where(col_section==\"高新南环路\").orderBy('start_time').rdd.collect()\n",
    "import pandas as pd\n",
    "dfp = pd.DataFrame(高新南环路, columns=reduced_df.columns)\n",
    "# fun = datetime.datetime.fromtimestamp\n",
    "# fun = lambda x:datetime.datetime.fromtimestamp(x).time()\n",
    "fun = lambda x: datetime.datetime.fromtimestamp(x).strftime('%H:%M')\n",
    "dfp['start_time'] = dfp['start_time'].apply(fun)\n",
    "dfp['end_time'] = dfp['end_time'].apply(fun)\n",
    "dfp"
   ]
  },
  {
   "cell_type": "code",
   "execution_count": 72,
   "metadata": {},
   "outputs": [],
   "source": [
    "# dfp[dfp['start_time']]"
   ]
  },
  {
   "cell_type": "code",
   "execution_count": 75,
   "metadata": {},
   "outputs": [
    {
     "data": {
      "image/png": "[encoded data removed]",
      "text/plain": [
       "<Figure size 640x480 with 1 Axes>"
      ]
     },
     "metadata": {},
     "output_type": "display_data"
    }
   ],
   "source": [
    "from matplotlib import pyplot as plt\n",
    "import seaborn as sns\n",
    "dfp[['start_time', 'percentage']].plot.bar(x='start_time', y='percentage')\n",
    "plt.savefig(output_directory/'高新南环路.png')"
   ]
  },
  {
   "cell_type": "code",
   "execution_count": null,
   "metadata": {},
   "outputs": [],
   "source": [
    "# plt.plot(高新南环路[\"start_time\"], 高新南环路['percentatge'])"
   ]
  }
 ],
 "metadata": {
  "kernelspec": {
   "display_name": "spark",
   "language": "python",
   "name": "python3"
  },
  "language_info": {
   "codemirror_mode": {
    "name": "ipython",
    "version": 3
   },
   "file_extension": ".py",
   "mimetype": "text/x-python",
   "name": "python",
   "nbconvert_exporter": "python",
   "pygments_lexer": "ipython3",
   "version": "3.11.3"
  },
  "orig_nbformat": 4
 },
 "nbformat": 4,
 "nbformat_minor": 2
}
