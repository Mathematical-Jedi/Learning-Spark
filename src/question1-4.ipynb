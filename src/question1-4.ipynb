{
 "cells": [
  {
   "cell_type": "code",
   "execution_count": 38,
   "metadata": {},
   "outputs": [],
   "source": [
    "from boilerplates import *"
   ]
  },
  {
   "cell_type": "code",
   "execution_count": 39,
   "metadata": {},
   "outputs": [
    {
     "name": "stdout",
     "output_type": "stream",
     "text": [
      "written to /home/yecm/yecanming/repo/P_CS_Labs/Distrubuted/Assignment3-Spark/output/r1.csv\n"
     ]
    }
   ],
   "source": [
    "# 问题1: 对于每个section，统计不同的停车场的数量（不是统计停车记录的数量，需要Distinct）\n",
    "res1 = df.groupby(col_section).agg(count_distinct(col_berthage).alias(\"count\"))\n",
    "write_df(res1, \"r1.csv\")\n",
    "# pandas得到单个文件。如果是write函数，可能得到多个文件。"
   ]
  },
  {
   "cell_type": "code",
   "execution_count": 40,
   "metadata": {},
   "outputs": [],
   "source": [
    "# 问题2\n",
    "# 找到所有unique的berthage，同时找到每个berthage对应的那一个section\n",
    "# 一个bertahge有很多条记录，每个记录都有section，我们选择哪个呢?\n",
    "# 我们可以继续分组，看看是不是一样的。\n",
    "res2 = df.select(col_berthage, col_section)\\\n",
    "    .groupby(col_berthage, col_section)\\\n",
    "    .agg(count_distinct(col_section).alias(\"count\"))\\\n",
    "    # .agg(mode('section').alias('section'))\n",
    "assert all([i['count']==1 for i in res2.toLocalIterator()])"
   ]
  },
  {
   "cell_type": "code",
   "execution_count": 41,
   "metadata": {},
   "outputs": [
    {
     "name": "stdout",
     "output_type": "stream",
     "text": [
      "written to /home/yecm/yecanming/repo/P_CS_Labs/Distrubuted/Assignment3-Spark/output/r2.csv\n"
     ]
    }
   ],
   "source": [
    "# 符合条件，那么我们可以直接取第一个section\n",
    "res2 = df.select(col_berthage, col_section)\\\n",
    "    .groupby(col_berthage)\\\n",
    "    .agg(first(col_section).alias('section'))\n",
    "# res.show()\n",
    "write_df(res2, \"r2.csv\")"
   ]
  },
  {
   "cell_type": "code",
   "execution_count": 42,
   "metadata": {},
   "outputs": [
    {
     "data": {
      "text/plain": [
       "True"
      ]
     },
     "execution_count": 42,
     "metadata": {},
     "output_type": "execute_result"
    }
   ],
   "source": [
    "res2_5 = res2.groupby(col_section).agg(count(col_berthage).alias(\"count\"))\n",
    "dict(res2_5.toLocalIterator())==dict(res1.toLocalIterator()) # 说明r1和r2的正确性。"
   ]
  },
  {
   "cell_type": "code",
   "execution_count": 43,
   "metadata": {},
   "outputs": [
    {
     "name": "stdout",
     "output_type": "stream",
     "text": [
      "written to /home/yecm/yecanming/repo/P_CS_Labs/Distrubuted/Assignment3-Spark/output/r3.csv\n"
     ]
    }
   ],
   "source": [
    "# 问题3\n",
    "# 求每一个区域的平均停车时间，单位为取整后的秒\n",
    "res3 = df.select(col_section, col_parking_time)\\\n",
    "    .groupby(col_section)\\\n",
    "    .agg(mean(col_parking_time).cast('long').alias('avg_parking_time'))\n",
    "write_df(res3, \"r3.csv\")"
   ]
  },
  {
   "cell_type": "code",
   "execution_count": 44,
   "metadata": {},
   "outputs": [
    {
     "name": "stdout",
     "output_type": "stream",
     "text": [
      "written to /home/yecm/yecanming/repo/P_CS_Labs/Distrubuted/Assignment3-Spark/output/r4.csv\n"
     ]
    }
   ],
   "source": [
    "# 问题4\n",
    "# 求每一个停车场的平均停车时间，单位为取整后的秒，降序排序\n",
    "res4 = df.select(col_berthage, col_parking_time)\\\n",
    "    .groupby(col_berthage)\\\n",
    "    .agg(mean(col_parking_time).cast('long').alias('avg_parking_time'))\\\n",
    "    .sort(col('avg_parking_time').desc())\n",
    "# res4.show()\n",
    "write_df(res4, \"r4.csv\")\n"
   ]
  }
 ],
 "metadata": {
  "kernelspec": {
   "display_name": "spark",
   "language": "python",
   "name": "python3"
  },
  "language_info": {
   "codemirror_mode": {
    "name": "ipython",
    "version": 3
   },
   "file_extension": ".py",
   "mimetype": "text/x-python",
   "name": "python",
   "nbconvert_exporter": "python",
   "pygments_lexer": "ipython3",
   "version": "3.11.3"
  },
  "orig_nbformat": 4
 },
 "nbformat": 4,
 "nbformat_minor": 2
}
