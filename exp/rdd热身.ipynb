{
 "cells": [
  {
   "cell_type": "code",
   "execution_count": 7,
   "metadata": {},
   "outputs": [
    {
     "name": "stderr",
     "output_type": "stream",
     "text": [
      "                                                                                \r"
     ]
    },
    {
     "name": "stdout",
     "output_type": "stream",
     "text": [
      "+-----+-------------------+-------------------+--------+----------------+------------+------------+\n",
      "|index|            in_time|           out_time|berthage|         section|admin_region|parking_time|\n",
      "+-----+-------------------+-------------------+--------+----------------+------------+------------+\n",
      "|    0|2018-09-01 10:10:00|2018-09-01 12:00:00|  201091|荔园路(蛇口西段)|      南山区|        6600|\n",
      "|    1|2018-09-01 13:43:35|2018-09-01 14:29:35|  201091|荔园路(蛇口西段)|      南山区|        2760|\n",
      "|    2|2018-09-01 15:10:54|2018-09-01 16:08:54|  201091|荔园路(蛇口西段)|      南山区|        3480|\n",
      "|    3|2018-09-01 16:34:03|2018-09-01 17:56:03|  201091|荔园路(蛇口西段)|      南山区|        4920|\n",
      "|    4|2018-09-01 18:40:20|2018-09-01 20:00:20|  201091|荔园路(蛇口西段)|      南山区|        4800|\n",
      "+-----+-------------------+-------------------+--------+----------------+------------+------------+\n",
      "\n"
     ]
    }
   ],
   "source": [
    "from pathlib import Path\n",
    "import os\n",
    "this_directory = Path(os.getcwd()).resolve()\n",
    "project_directory = this_directory.parent\n",
    "import sys\n",
    "sys.path.append(project_directory.as_posix())\n",
    "from pyspark.sql import SparkSession\n",
    "from pyspark.sql.functions import *\n",
    "spark = SparkSession\\\n",
    "        .builder\\\n",
    "        .appName(\"test\")\\\n",
    "        .getOrCreate()\n",
    "from random import random\n",
    "from operator import add\n",
    "from pyspark.sql.types import *\n",
    "schema = StructType([\n",
    " StructField(\"index\", IntegerType(), False),\n",
    " StructField(\"in_time\", TimestampType(), False),\n",
    " StructField(\"out_time\", TimestampType(), False),\n",
    " StructField(\"berthage\", IntegerType(), False),\n",
    " StructField(\"section\", StringType(), False),\n",
    " StructField(\"admin_region\", StringType(), False), \n",
    " StructField(\"parking_time\", LongType(), False),\n",
    " ])\n",
    "data_path = (project_directory/\"data/clean_parking_data.csv\").as_posix()\n",
    "df = spark.read.csv(data_path,\n",
    "                    header=True, \n",
    "                    inferSchema=True,\n",
    "                    \n",
    "                    )\n",
    "                #     schema=schema)\n",
    "df.limit(5).show(5)"
   ]
  },
  {
   "cell_type": "code",
   "execution_count": 28,
   "metadata": {},
   "outputs": [
    {
     "name": "stderr",
     "output_type": "stream",
     "text": [
      "                                                                                \r"
     ]
    },
    {
     "data": {
      "text/plain": [
       "3363310920"
      ]
     },
     "execution_count": 28,
     "metadata": {},
     "output_type": "execute_result"
    }
   ],
   "source": [
    "sc = spark.sparkContext\n",
    "rdd = df.rdd\n",
    "# 统计总的停车时间\n",
    "total_parking_time = rdd.map(lambda x: int(x[-1])).reduce(lambda x, y: x + y)\n",
    "# 计算平均停车时间\n",
    "avg_parking_time = total_parking_time / rdd.count()\n",
    "# 统计每个区域的停车时间\n",
    "parking_time_by_region = rdd.map(lambda x: (x[-2], int(x[-1]))) \\\n",
    "    .reduceByKey(lambda x, y: x + y)\n",
    "total_parking_time"
   ]
  },
  {
   "cell_type": "code",
   "execution_count": 26,
   "metadata": {},
   "outputs": [
    {
     "data": {
      "text/plain": [
       "[(0, 1, '招商路(蛇口西段)', 0),\n",
       " (0, 1, '荔园路(蛇口西段)', 0),\n",
       " (0, 1, '四海路', 0),\n",
       " (0, 1, '金世纪路', 0),\n",
       " (0, 1, '海月路(东段)', 0)]"
      ]
     },
     "execution_count": 26,
     "metadata": {},
     "output_type": "execute_result"
    }
   ],
   "source": [
    "# 构建答案空间\n",
    "sf = sc.range(0, 48, 1).map(lambda x: (x, x+1))\n",
    "sf.take(5)\n",
    "sections = df.select('section').distinct().rdd\n",
    "sections.take(5)\n",
    "sfs = sf.cartesian(sections)\n",
    "sfs.take(5)\n",
    "sfs.map(lambda x: (x[0][0], x[0][1], x[1][0], 0)).take(5)"
   ]
  },
  {
   "cell_type": "code",
   "execution_count": null,
   "metadata": {},
   "outputs": [],
   "source": [
    "def process(x):\n",
    "    \n",
    "    return x\n",
    "rdd.map(process).take(5)"
   ]
  },
  {
   "cell_type": "code",
   "execution_count": 27,
   "metadata": {},
   "outputs": [
    {
     "data": {
      "text/plain": [
       "[0, 1, 1, 2, 2, 3, 3, 4, 4, 5]"
      ]
     },
     "execution_count": 27,
     "metadata": {},
     "output_type": "execute_result"
    }
   ],
   "source": [
    "sc.range(0, 5, 1).flatMap(lambda x:[x, x+1]).take(10)"
   ]
  },
  {
   "cell_type": "code",
   "execution_count": 29,
   "metadata": {},
   "outputs": [
    {
     "data": {
      "text/plain": [
       "['index',\n",
       " 'in_time',\n",
       " 'out_time',\n",
       " 'berthage',\n",
       " 'section',\n",
       " 'admin_region',\n",
       " 'parking_time']"
      ]
     },
     "execution_count": 29,
     "metadata": {},
     "output_type": "execute_result"
    }
   ],
   "source": [
    "df.columns"
   ]
  },
  {
   "cell_type": "code",
   "execution_count": 32,
   "metadata": {},
   "outputs": [
    {
     "data": {
      "text/plain": [
       "[Row(index=0, in_time=datetime.datetime(2018, 9, 1, 10, 10), out_time=datetime.datetime(2018, 9, 1, 12, 0), berthage=201091, section='荔园路(蛇口西段)', admin_region='南山区', parking_time=6600)]"
      ]
     },
     "execution_count": 32,
     "metadata": {},
     "output_type": "execute_result"
    }
   ],
   "source": [
    "rdd.take(1)"
   ]
  },
  {
   "cell_type": "code",
   "execution_count": 46,
   "metadata": {},
   "outputs": [
    {
     "data": {
      "text/plain": [
       "20.0"
      ]
     },
     "execution_count": 46,
     "metadata": {},
     "output_type": "execute_result"
    }
   ],
   "source": [
    "import datetime\n",
    "q = datetime.datetime(2018, 9, 1, 10, 10, 10 ) # 10点10分10秒\n",
    "base = q.replace(hour=0, minute=0, second=0, microsecond=0)\n",
    "d = q-base\n",
    "# dir(d)\n",
    "d.total_seconds()//1800"
   ]
  },
  {
   "cell_type": "code",
   "execution_count": null,
   "metadata": {},
   "outputs": [],
   "source": [
    "def process(record):\n",
    "    in_time = record[1]\n",
    "    out_time = record[2]\n",
    "    berthage = record[3]\n",
    "    section = record[4]\n",
    "    admin_region = record[5]\n",
    "    # parking_time_half_hour = record[6]/1800 # 有几个半小时\n",
    "    # for i in range(parking_time_half_hour):\n",
    "    #     in_time\n",
    "    base_date = in_time.replace(hour=0, minute=0, second=0, microsecond=0)\n",
    "    in_half_hour = (in_time-base_date).total_seconds()//1800\n",
    "    out_half_hour = (out_time-base_date).total_seconds()//1800\n",
    "    \n",
    "    for h in range(in_half_hour, out_half_hour+1):\n",
    "        \n",
    "    # 返回一个列表，表示这条记录作为一个berthage，对与哪些半小时\n",
    "\n",
    "s = rdd.flatMap(process)\n",
    "# 经过操作，s应该是(key, value)的形式，key是(start_half_hour, end_half_hour, section)\n",
    "# value是(berthage, contributions)"
   ]
  },
  {
   "cell_type": "code",
   "execution_count": null,
   "metadata": {},
   "outputs": [],
   "source": [
    "s = s.distinct(lambda v:v[1]) \\\n",
    "    .map(lambda x: (x[0], x[1][1])) # 对berthage做去重，贡献"
   ]
  },
  {
   "cell_type": "code",
   "execution_count": 63,
   "metadata": {},
   "outputs": [
    {
     "ename": "NameError",
     "evalue": "name 's' is not defined",
     "output_type": "error",
     "traceback": [
      "\u001b[0;31m---------------------------------------------------------------------------\u001b[0m",
      "\u001b[0;31mNameError\u001b[0m                                 Traceback (most recent call last)",
      "Cell \u001b[0;32mIn[63], line 3\u001b[0m\n\u001b[1;32m      1\u001b[0m \u001b[39m# key 是 (start_half_hour, end_half_hour, section)\u001b[39;00m\n\u001b[1;32m      2\u001b[0m \u001b[39m# s 是一堆 (key, 1) 或者 (key, 2) 的集合\u001b[39;00m\n\u001b[0;32m----> 3\u001b[0m res \u001b[39m=\u001b[39m s\u001b[39m.\u001b[39mreduceByKey(\u001b[39mlambda\u001b[39;00m x, y: x\u001b[39m+\u001b[39my)\n\u001b[1;32m      4\u001b[0m \u001b[39m# res现在是 每一个 (start_half_hour, end_half_hour, section) 对应的总共的出现过的独立停车场数。\u001b[39;00m\n",
      "\u001b[0;31mNameError\u001b[0m: name 's' is not defined"
     ]
    }
   ],
   "source": [
    "# key 是 (start_half_hour, end_half_hour, section)\n",
    "# s 是一堆 (key, 1) 或者 (key, 2) 的集合\n",
    "res = s.reduceByKey(lambda x, y: x+y)\n",
    "# res现在是 每一个 (start_half_hour, end_half_hour, section) 对应的总共的出现过的独立停车场数。\n",
    "# 从后往前构造"
   ]
  },
  {
   "cell_type": "code",
   "execution_count": null,
   "metadata": {},
   "outputs": [],
   "source": [
    "section_berthage_rdd = rdd.map(lambda x: ((x[4], x[3]), 1))\n"
   ]
  },
  {
   "cell_type": "code",
   "execution_count": 60,
   "metadata": {},
   "outputs": [
    {
     "name": "stderr",
     "output_type": "stream",
     "text": [
      "                                                                                \r"
     ]
    },
    {
     "data": {
      "text/plain": [
       "[('高新南环路', 240),\n",
       " ('科技南一路', 92),\n",
       " ('科技南路', 87),\n",
       " ('后海大道辅道(后海段)', 80),\n",
       " ('高新南十道', 73)]"
      ]
     },
     "execution_count": 60,
     "metadata": {},
     "output_type": "execute_result"
    }
   ],
   "source": [
    "# 假设rdd为停车记录数据集，变量名为parking_data\n",
    "# 生成(section, berthage)键值对的rdd\n",
    "section_berthage_rdd = rdd.map(lambda x: ((x[4]),  x[3]))\n",
    "# 按section分组\n",
    "grouped_by_section_rdd = section_berthage_rdd.groupByKey()\n",
    "# grouped_by_section_rdd.take(5)\n",
    "grouped_by_section_rdd.mapValues(lambda x: len(set(x)))\\\n",
    "    .sortBy(lambda x: x[1], ascending=False)\\\n",
    "    .take(5)"
   ]
  },
  {
   "cell_type": "code",
   "execution_count": 65,
   "metadata": {},
   "outputs": [
    {
     "name": "stderr",
     "output_type": "stream",
     "text": [
      "                                                                                \r"
     ]
    },
    {
     "data": {
      "text/plain": [
       "[('高新南环路', 240),\n",
       " ('科技南一路', 92),\n",
       " ('科技南路', 87),\n",
       " ('后海大道辅道(后海段)', 80),\n",
       " ('高新南十道', 73)]"
      ]
     },
     "execution_count": 65,
     "metadata": {},
     "output_type": "execute_result"
    }
   ],
   "source": [
    "section_berthage_rdd = rdd.map(lambda x: ((x[4]),  x[3]))\n",
    "# count_rdd = section_berthage_rdd.distinct(lambda x:x) \\\n",
    "count_rdd = section_berthage_rdd.distinct() \\\n",
    "    .map(lambda x: (x[0], 1)) \\\n",
    "    .reduceByKey(lambda a, b: a + b)\n",
    "top_counts = count_rdd.sortBy(lambda x: x[1], ascending=False).take(5)\n",
    "top_counts"
   ]
  },
  {
   "cell_type": "code",
   "execution_count": 59,
   "metadata": {},
   "outputs": [
    {
     "name": "stdout",
     "output_type": "stream",
     "text": [
      "+--------------------+--------------+\n",
      "|             section|berthage_count|\n",
      "+--------------------+--------------+\n",
      "|          高新南环路|           240|\n",
      "|          科技南一路|            92|\n",
      "|            科技南路|            87|\n",
      "|后海大道辅道(后海段)|            80|\n",
      "|          高新南十道|            73|\n",
      "+--------------------+--------------+\n",
      "only showing top 5 rows\n",
      "\n"
     ]
    }
   ],
   "source": [
    "result_df = df.groupBy(\"section\")\\\n",
    "    .agg(countDistinct(\"berthage\").alias(\"berthage_count\"))\\\n",
    "    .sort(col(\"berthage_count\").desc())\n",
    "result_df.show(5)"
   ]
  },
  {
   "cell_type": "code",
   "execution_count": null,
   "metadata": {},
   "outputs": [],
   "source": []
  }
 ],
 "metadata": {
  "kernelspec": {
   "display_name": "spark",
   "language": "python",
   "name": "python3"
  },
  "language_info": {
   "codemirror_mode": {
    "name": "ipython",
    "version": 3
   },
   "file_extension": ".py",
   "mimetype": "text/x-python",
   "name": "python",
   "nbconvert_exporter": "python",
   "pygments_lexer": "ipython3",
   "version": "3.11.3"
  },
  "orig_nbformat": 4
 },
 "nbformat": 4,
 "nbformat_minor": 2
}
